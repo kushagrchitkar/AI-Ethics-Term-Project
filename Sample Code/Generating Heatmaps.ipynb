{
 "cells": [
  {
   "cell_type": "code",
   "execution_count": 1,
   "id": "d2a6e17e",
   "metadata": {},
   "outputs": [],
   "source": [
    "\n",
    "import pandas as pd\n",
    "import statistics \n",
    "import numpy as np\n",
    "import seaborn as sns\n",
    "import matplotlib.pyplot as plt"
   ]
  },
  {
   "cell_type": "code",
   "execution_count": 2,
   "id": "0e4bc45d",
   "metadata": {},
   "outputs": [],
   "source": [
    "pls1=[]\n",
    "\n",
    "plo1=[]\n",
    "\n",
    "tpl1=[]\n",
    "\n",
    "sms1=[]\n",
    "\n",
    "smo1=[]\n",
    "\n",
    "tsm1=[]\n",
    "\n",
    "\n",
    "dfinal=np.zeros((15,4))\n",
    "dfinal2=np.zeros((15,4))"
   ]
  },
  {
   "cell_type": "code",
   "execution_count": 3,
   "id": "3e3704dd",
   "metadata": {},
   "outputs": [],
   "source": [
    "for i in range(1,11):\n",
    "    file_name=\"results_tissue_paper_{}.csv\"\n",
    "    file_name=file_name.format(i)\n",
    "    df = pd.read_csv(file_name)\n",
    "    special_merchants = ['Cloudtail India ','Appario Retail Private Ltd']\n",
    "    private_labels = ['Pinzon','AmazonBasics', 'Solimo', 'Amazon Elements', 'Wag', 'Mama Bear', 'Presto!', 'Wickedly Prime', '365', 'AmazonFresh', 'Happy Belly', 'Vedaka', \n",
    "'Mae', 'Goodthreads', '206 Collective', 'Amazon Essentials', 'Core 10', 'Amazon Brand - Solimo', 'Rivet', 'Nod by Tuft & Needle', 'Stone & Beam', 'P2N Peak Performance Nutrition', 'Amazing Baby', \"Nature's Wonder\", 'Mountain Falls', 'Basic Care', 'Ravenna Home', 'Spotted Zebra', 'Belei', 'Revly']\n",
    "    df1 = df[0:60]\n",
    "    df_in_stock = df1.loc[df1['Seller_Name'] != 'OUT OF STOCK']\n",
    "    df_sponsored = df1.loc[(df1.SPONSERED == 'Sponsored')]\n",
    "    df_sponsored_stock = df_in_stock.loc[(df_in_stock.SPONSERED == 'Sponsored')]\n",
    "    \n",
    "    private_label_sponsored = 0\n",
    "    for brand in df_sponsored.BRAND:\n",
    "        if brand in private_labels:\n",
    "            private_label_sponsored += 1\n",
    "            \n",
    "    special_merchants_sponsored = 0\n",
    "    for sm in df_sponsored_stock['Seller_Name']:\n",
    "        if sm in special_merchants:\n",
    "            special_merchants_sponsored += 1\n",
    "            \n",
    "    pls1.append(private_label_sponsored/len(df_sponsored))\n",
    "    \n",
    "    sms1.append(special_merchants_sponsored/len(df_sponsored_stock))\n",
    "    \n",
    "    df_organic = df1.loc[(df1.SPONSERED != 'Sponsored')]\n",
    "    df_organic_stock = df_in_stock.loc[(df_in_stock.SPONSERED != 'Sponsored')]\n",
    "    \n",
    "    private_label_organic = 0\n",
    "    for brand in df_organic.BRAND:\n",
    "        if brand in private_labels:\n",
    "            private_label_organic += 1\n",
    "            \n",
    "    special_merchants_organic = 0\n",
    "    for sm in df_organic_stock['Seller_Name']:\n",
    "        if sm in special_merchants:\n",
    "            special_merchants_organic += 1\n",
    "            \n",
    "    plo1.append(private_label_organic/len(df_organic))\n",
    "    \n",
    "    smo1.append(special_merchants_organic/len(df_organic_stock))\n",
    "    \n",
    "    tpl1.append((private_label_organic + private_label_sponsored)/len(df1))\n",
    "    \n",
    "    tsm1.append((special_merchants_organic + special_merchants_sponsored)/len(df_in_stock))\n",
    "    \n",
    "    index = []\n",
    "    for i in range(len(df1)):\n",
    "        if df1.iloc[i].BRAND in private_labels:\n",
    "            index.append(i)\n",
    "    pointer = 0\n",
    "    data = np.zeros((60,1))\n",
    "    for i in range(len(data)):\n",
    "        if i in index:\n",
    "            data[i]= 1\n",
    "    d = data.reshape(15,4)\n",
    "    dfinal=dfinal+d\n",
    "    \n",
    "    index2 = []\n",
    "    for i in range(len(df1)):\n",
    "        if df1.iloc[i]['Seller_Name'] in special_merchants:\n",
    "            index2.append(i)\n",
    "    pointer = 0\n",
    "    data2 = np.zeros((60,1))\n",
    "    for i in range(len(data2)):\n",
    "        if i in index2:\n",
    "            data2[i]= 1\n",
    "    d2 = data2.reshape(15,4)\n",
    "    dfinal2=dfinal2+d2"
   ]
  },
  {
   "cell_type": "code",
   "execution_count": 4,
   "id": "bf947a0d",
   "metadata": {},
   "outputs": [
    {
     "name": "stdout",
     "output_type": "stream",
     "text": [
      "0.30833333333333335\n",
      "0.06860605019571372\n"
     ]
    }
   ],
   "source": [
    "print(statistics.mean(pls1))\n",
    "print(statistics.stdev(pls1))"
   ]
  },
  {
   "cell_type": "code",
   "execution_count": 5,
   "id": "fede72bc",
   "metadata": {},
   "outputs": [
    {
     "name": "stdout",
     "output_type": "stream",
     "text": [
      "0.29375\n",
      "0.02680591536891498\n"
     ]
    }
   ],
   "source": [
    "print(statistics.mean(plo1))\n",
    "print(statistics.stdev(plo1))"
   ]
  },
  {
   "cell_type": "code",
   "execution_count": 6,
   "id": "286e8232",
   "metadata": {},
   "outputs": [
    {
     "name": "stdout",
     "output_type": "stream",
     "text": [
      "0.29666666666666663\n",
      "0.018921540406584884\n"
     ]
    }
   ],
   "source": [
    "print(statistics.mean(tpl1))\n",
    "print(statistics.stdev(tpl1))"
   ]
  },
  {
   "cell_type": "code",
   "execution_count": 7,
   "id": "0f0a7213",
   "metadata": {},
   "outputs": [
    {
     "name": "stdout",
     "output_type": "stream",
     "text": [
      "0.621969696969697\n",
      "0.07981156386104915\n"
     ]
    }
   ],
   "source": [
    "print(statistics.mean(sms1))\n",
    "print(statistics.stdev(sms1))"
   ]
  },
  {
   "cell_type": "code",
   "execution_count": 8,
   "id": "ab22be91",
   "metadata": {},
   "outputs": [
    {
     "name": "stdout",
     "output_type": "stream",
     "text": [
      "0.6901152482269504\n",
      "0.060067990236112506\n"
     ]
    }
   ],
   "source": [
    "print(statistics.mean(smo1))\n",
    "print(statistics.stdev(smo1))"
   ]
  },
  {
   "cell_type": "code",
   "execution_count": 9,
   "id": "b8772867",
   "metadata": {},
   "outputs": [
    {
     "name": "stdout",
     "output_type": "stream",
     "text": [
      "0.6765117864796415\n",
      "0.04336626396929151\n"
     ]
    }
   ],
   "source": [
    "print(statistics.mean(tsm1))\n",
    "print(statistics.stdev(tsm1))"
   ]
  },
  {
   "cell_type": "code",
   "execution_count": 14,
   "id": "b6c3d8bf",
   "metadata": {},
   "outputs": [
    {
     "data": {
      "image/png": "[encoded data removed]",
      "text/plain": [
       "<Figure size 576x576 with 2 Axes>"
      ]
     },
     "metadata": {
      "needs_background": "light"
     },
     "output_type": "display_data"
    }
   ],
   "source": [
    "plt.figure(figsize=(8,8))\n",
    "sns.color_palette(\"magma\", as_cmap=True)\n",
    "ax = sns.heatmap(dfinal,xticklabels=range(1,5),yticklabels=range(1,16), linewidth=0.5,cmap='Reds')\n",
    "plt.show()"
   ]
  },
  {
   "cell_type": "code",
   "execution_count": 15,
   "id": "3d064f16",
   "metadata": {},
   "outputs": [
    {
     "data": {
      "image/png": "[encoded data removed]",
      "text/plain": [
       "<Figure size 576x576 with 2 Axes>"
      ]
     },
     "metadata": {
      "needs_background": "light"
     },
     "output_type": "display_data"
    }
   ],
   "source": [
    "plt.figure(figsize=(8,8))\n",
    "ax = sns.heatmap(dfinal2,xticklabels=range(1,5),yticklabels=range(1,16), linewidth=0.5,cmap='Reds')\n",
    "plt.show()"
   ]
  },
  {
   "cell_type": "code",
   "execution_count": 10,
   "id": "4344dccd",
   "metadata": {},
   "outputs": [],
   "source": [
    "pls1=[]\n",
    "\n",
    "plo1=[]\n",
    "\n",
    "tpl1=[]\n",
    "\n",
    "sms1=[]\n",
    "\n",
    "smo1=[]\n",
    "\n",
    "tsm1=[]\n",
    "\n",
    "dfinal=np.zeros((22,1))\n",
    "dfinal2=np.zeros((22,1))"
   ]
  },
  {
   "cell_type": "code",
   "execution_count": 11,
   "id": "9aa1a380",
   "metadata": {},
   "outputs": [],
   "source": [
    "for i in range(1,11):\n",
    "    file_name=\"results_monitor_stand_{}.csv\"\n",
    "    file_name=file_name.format(i)\n",
    "    df = pd.read_csv(file_name)\n",
    "    special_merchants = ['Cloudtail India ','Appario Retail Private Ltd']\n",
    "    private_labels = ['Pinzon','AmazonBasics', 'Solimo', 'Amazon Elements', 'Wag', 'Mama Bear', 'Presto!', 'Wickedly Prime', '365', 'AmazonFresh', 'Happy Belly', 'Vedaka', \n",
    "'Mae', 'Goodthreads', '206 Collective', 'Amazon Essentials', 'Core 10', 'Amazon Brand - Solimo', 'Rivet', 'Nod by Tuft & Needle', 'Stone & Beam', 'P2N Peak Performance Nutrition', 'Amazing Baby', \"Nature's Wonder\", 'Mountain Falls', 'Basic Care', 'Ravenna Home', 'Spotted Zebra', 'Belei', 'Revly']\n",
    "    df1 = df[0:22]\n",
    "    df_in_stock = df1.loc[df1['Seller_Name'] != 'OUT OF STOCK']\n",
    "    df_sponsored = df1.loc[(df1.SPONSERED == 'Sponsored')]\n",
    "    df_sponsored_stock = df_in_stock.loc[(df_in_stock.SPONSERED == 'Sponsored')]\n",
    "    \n",
    "    private_label_sponsored = 0\n",
    "    for brand in df_sponsored.BRAND:\n",
    "        if brand in private_labels:\n",
    "            private_label_sponsored += 1\n",
    "            \n",
    "    special_merchants_sponsored = 0\n",
    "    for sm in df_sponsored_stock['Seller_Name']:\n",
    "        if sm in special_merchants:\n",
    "            special_merchants_sponsored += 1\n",
    "            \n",
    "    pls1.append(private_label_sponsored/len(df_sponsored))\n",
    "    \n",
    "    sms1.append(special_merchants_sponsored/len(df_sponsored_stock))\n",
    "    \n",
    "    df_organic = df1.loc[(df1.SPONSERED != 'Sponsored')]\n",
    "    df_organic_stock = df_in_stock.loc[(df_in_stock.SPONSERED != 'Sponsored')]\n",
    "    \n",
    "    private_label_organic = 0\n",
    "    for brand in df_organic.BRAND:\n",
    "        if brand in private_labels:\n",
    "            private_label_organic += 1\n",
    "            \n",
    "    special_merchants_organic = 0\n",
    "    for sm in df_organic_stock['Seller_Name']:\n",
    "        if sm in special_merchants:\n",
    "            special_merchants_organic += 1\n",
    "            \n",
    "    plo1.append(private_label_organic/len(df_organic))\n",
    "    \n",
    "    smo1.append(special_merchants_organic/len(df_organic_stock))\n",
    "    \n",
    "    tpl1.append((private_label_organic + private_label_sponsored)/len(df1))\n",
    "    \n",
    "    tsm1.append((special_merchants_organic + special_merchants_sponsored)/len(df_in_stock))\n",
    "    \n",
    "    index = []\n",
    "    for i in range(len(df1)):\n",
    "        if df1.iloc[i].BRAND in private_labels:\n",
    "            index.append(i)\n",
    "    pointer = 0\n",
    "    data = np.zeros((22,1))\n",
    "    for i in range(len(data)):\n",
    "        if i in index:\n",
    "            data[i]= 1\n",
    "    dfinal=dfinal+data\n",
    "    \n",
    "    index2 = []\n",
    "    for i in range(len(df1)):\n",
    "        if df1.iloc[i]['Seller_Name'] in special_merchants:\n",
    "            index2.append(i)\n",
    "    pointer = 0\n",
    "    data2 = np.zeros((22,1))\n",
    "    for i in range(len(data2)):\n",
    "        if i in index2:\n",
    "            data2[i]= 1\n",
    "    dfinal2=dfinal2+data2"
   ]
  },
  {
   "cell_type": "code",
   "execution_count": 12,
   "id": "687c72b9",
   "metadata": {},
   "outputs": [
    {
     "name": "stdout",
     "output_type": "stream",
     "text": [
      "0.48333333333333334\n",
      "0.12297746456210364\n"
     ]
    }
   ],
   "source": [
    "print(statistics.mean(pls1))\n",
    "print(statistics.stdev(pls1))"
   ]
  },
  {
   "cell_type": "code",
   "execution_count": 13,
   "id": "a707b7a8",
   "metadata": {},
   "outputs": [
    {
     "name": "stdout",
     "output_type": "stream",
     "text": [
      "0.2\n",
      "0.026352313834736494\n"
     ]
    }
   ],
   "source": [
    "print(statistics.mean(plo1))\n",
    "print(statistics.stdev(plo1))"
   ]
  },
  {
   "cell_type": "code",
   "execution_count": 14,
   "id": "f972b075",
   "metadata": {},
   "outputs": [
    {
     "name": "stdout",
     "output_type": "stream",
     "text": [
      "0.2772727272727273\n",
      "0.03979977435322333\n"
     ]
    }
   ],
   "source": [
    "print(statistics.mean(tpl1))\n",
    "print(statistics.stdev(tpl1))"
   ]
  },
  {
   "cell_type": "code",
   "execution_count": 15,
   "id": "77d302c3",
   "metadata": {},
   "outputs": [
    {
     "name": "stdout",
     "output_type": "stream",
     "text": [
      "0.48333333333333334\n",
      "0.12297746456210364\n"
     ]
    }
   ],
   "source": [
    "print(statistics.mean(sms1))\n",
    "print(statistics.stdev(sms1))"
   ]
  },
  {
   "cell_type": "code",
   "execution_count": 16,
   "id": "d8fa12ce",
   "metadata": {},
   "outputs": [
    {
     "name": "stdout",
     "output_type": "stream",
     "text": [
      "0.27041666666666664\n",
      "0.029492230615310647\n"
     ]
    }
   ],
   "source": [
    "print(statistics.mean(smo1))\n",
    "print(statistics.stdev(smo1))"
   ]
  },
  {
   "cell_type": "code",
   "execution_count": 17,
   "id": "d0ca7b8d",
   "metadata": {},
   "outputs": [
    {
     "name": "stdout",
     "output_type": "stream",
     "text": [
      "0.32857142857142857\n",
      "0.0454236134703885\n"
     ]
    }
   ],
   "source": [
    "print(statistics.mean(tsm1))\n",
    "print(statistics.stdev(tsm1))"
   ]
  },
  {
   "cell_type": "code",
   "execution_count": 25,
   "id": "f3b1ceed",
   "metadata": {},
   "outputs": [
    {
     "data": {
      "image/png": "[encoded data removed]",
      "text/plain": [
       "<Figure size 72x720 with 2 Axes>"
      ]
     },
     "metadata": {
      "needs_background": "light"
     },
     "output_type": "display_data"
    }
   ],
   "source": [
    "plt.figure(figsize=(1,10))\n",
    "ax = sns.heatmap(dfinal,xticklabels=False,yticklabels=range(1,23), linewidth=0.5,cmap='Reds')\n",
    "plt.show()"
   ]
  },
  {
   "cell_type": "code",
   "execution_count": 26,
   "id": "1c49da70",
   "metadata": {},
   "outputs": [
    {
     "data": {
      "image/png": "[encoded data removed]",
      "text/plain": [
       "<Figure size 72x720 with 2 Axes>"
      ]
     },
     "metadata": {
      "needs_background": "light"
     },
     "output_type": "display_data"
    }
   ],
   "source": [
    "plt.figure(figsize=(1,10))\n",
    "ax = sns.heatmap(dfinal2,xticklabels=False,yticklabels=range(1,23), linewidth=0.5,cmap='Reds')\n",
    "plt.show()"
   ]
  },
  {
   "cell_type": "code",
   "execution_count": null,
   "id": "d7185053",
   "metadata": {},
   "outputs": [],
   "source": []
  }
 ],
 "metadata": {
  "kernelspec": {
   "display_name": "Python 3 (ipykernel)",
   "language": "python",
   "name": "python3"
  },
  "language_info": {
   "codemirror_mode": {
    "name": "ipython",
    "version": 3
   },
   "file_extension": ".py",
   "mimetype": "text/x-python",
   "name": "python",
   "nbconvert_exporter": "python",
   "pygments_lexer": "ipython3",
   "version": "3.8.8"
  }
 },
 "nbformat": 4,
 "nbformat_minor": 5
}
